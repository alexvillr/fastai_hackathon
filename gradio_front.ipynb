{
 "cells": [
  {
   "cell_type": "code",
   "execution_count": null,
   "id": "b6c88b76-a6ba-49a4-840b-6526742a1ee5",
   "metadata": {},
   "outputs": [],
   "source": [
    "import gradio as gr\n",
    "from fastai.text.all import *\n",
    "from nltk import tokenize"
   ]
  },
  {
   "cell_type": "code",
   "execution_count": null,
   "id": "953804b4-9425-4862-9dba-ef36c302187c",
   "metadata": {},
   "outputs": [],
   "source": [
    "import nltk\n",
    "nltk.download('punkt')"
   ]
  },
  {
   "cell_type": "code",
   "execution_count": null,
   "id": "0d8a458e-6a60-4fac-80ab-5432bc67bcec",
   "metadata": {},
   "outputs": [],
   "source": [
    "model_pkl = \"https://cloudstor.aarnet.edu.au/plus/s/rJzjZMk7ieZGsao/download\"\n",
    "p = Path(\"./formality.pkl\")"
   ]
  },
  {
   "cell_type": "code",
   "execution_count": null,
   "id": "28fc9457-501b-4917-9b12-86696204d3c4",
   "metadata": {},
   "outputs": [],
   "source": [
    "# if not p.exists():\n",
    "#     import urllib.request\n",
    "#     urllib.request.urlretrieve(model_pkl, \"./formality.pkl\")"
   ]
  },
  {
   "cell_type": "code",
   "execution_count": null,
   "id": "82dcfb89-f15d-4283-abf8-a0049601f762",
   "metadata": {},
   "outputs": [],
   "source": [
    "# m = load_pickle(\"./formality.pkl\")"
   ]
  },
  {
   "cell_type": "code",
   "execution_count": null,
   "id": "071ed685-28fd-4b13-997a-ca2eaa19b4bf",
   "metadata": {},
   "outputs": [],
   "source": [
    "formal_sentences = \"The Gram matrix (or Gramian matrix, Gramian) of a set of vectors in an inner product space is the Hermitian matrix of inner products. C'man, man, don't leave holding the bag!\""
   ]
  },
  {
   "cell_type": "code",
   "execution_count": null,
   "id": "556ccdf7-7b18-4118-9478-4971720a1397",
   "metadata": {},
   "outputs": [],
   "source": [
    "m = load_learner(\"./data/learner.pkl\")"
   ]
  },
  {
   "cell_type": "code",
   "execution_count": null,
   "id": "767bcb29",
   "metadata": {},
   "outputs": [],
   "source": [
    "L(tokenize.sent_tokenize(formal_sentences)).map(lambda x: m.predict(x)[0])"
   ]
  },
  {
   "cell_type": "code",
   "execution_count": null,
   "id": "c22ba72b-8bdb-4bb2-bfde-7af31e98fac0",
   "metadata": {
    "tags": []
   },
   "outputs": [],
   "source": [
    "def formal_informal(text):\n",
    "    # a = m.predict(text)\n",
    "    # assessment = \"style: {0}, confidence {1:.2f}%\".format( a[0], a[2][0] * 100)\n",
    "    sentences = L(tokenize.sent_tokenize(text))\n",
    "    predictions = sentences.map(lambda x: m.predict(x)[0])\n",
    "    # assessment = \"style: {0}\".format(a[0])\n",
    "    assessment = zip(sentences.map(lambda x: x + ' '), predictions)\n",
    "    return assessment\n",
    "    \n",
    "demo = gr.Interface(formal_informal, \n",
    "                    gr.Textbox(label=\"Your text\", lines=5, value=\"\"), \n",
    "                    gr.HighlightedText(label=\"Stylistic analysis\", color_map={'formal': 'blue', 'informal': 'yellow'},\n",
    "                                       combine_adjacent=True, show_legend=False), \n",
    "                    examples=[\"I returned and saw under the sun, that the race is not to the swift, nor the battle to the strong, neither yet bread to the wise, nor yet riches to men of understanding, nor yet favour to men of skill; but time and chance happeneth to them all.\",\n",
    "                              \"Objective consideration of contemporary phenomena compels the conclusion that success or failure in competitive activities exhibits no tendency to be commensurate with innate capacity, but that a considerable element of the unpredictable must invariably be taken into account.\",\n",
    "                              \"When the process of freeing a vehicle that has been stuck results in ruts or holes, the operator will fill the rut or hole created by such activity before removing the vehicle from the immediate area.\",\n",
    "                              \"If you make a hole while freeing a stuck vehicle, you must fill the hole before you drive away.\",\n",
    "                              \"Prior to surgery patients are required to cleanse with this fluid.\",\n",
    "                              \"The day of your surgery, wash your body with this liquid soap.\"])\n",
    "# First two examples are from Orwell's \"Politics and the English Language\"\n",
    "# Next two examples are from https://www.plainlanguage.gov/examples/before-and-after/wordiness/\n",
    "# Next two examples are from https://www.ncbi.nlm.nih.gov/pmc/articles/PMC6044302/\n",
    "demo.launch()"
   ]
  },
  {
   "cell_type": "code",
   "execution_count": null,
   "id": "a59dae4a-7c2f-49bb-85c2-c2c43e811d7a",
   "metadata": {},
   "outputs": [],
   "source": []
  },
  {
   "cell_type": "code",
   "execution_count": null,
   "id": "9ffe7fdf-dada-4a6a-b2b6-b176dc9c83c3",
   "metadata": {},
   "outputs": [],
   "source": []
  }
 ],
 "metadata": {
  "jupytext": {
   "formats": "ipynb,py:percent"
  },
  "kernelspec": {
   "display_name": "Python 3 (ipykernel)",
   "language": "python",
   "name": "python3"
  },
  "language_info": {
   "codemirror_mode": {
    "name": "ipython",
    "version": 3
   },
   "file_extension": ".py",
   "mimetype": "text/x-python",
   "name": "python",
   "nbconvert_exporter": "python",
   "pygments_lexer": "ipython3",
   "version": "3.9.12"
  }
 },
 "nbformat": 4,
 "nbformat_minor": 5
}
