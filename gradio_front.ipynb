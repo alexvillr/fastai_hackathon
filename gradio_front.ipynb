{
 "cells": [
  {
   "cell_type": "code",
   "execution_count": null,
   "id": "b6c88b76-a6ba-49a4-840b-6526742a1ee5",
   "metadata": {},
   "outputs": [],
   "source": [
    "import gradio as gr"
   ]
  },
  {
   "cell_type": "code",
   "execution_count": null,
   "id": "77cd4c37-c06b-4847-a93e-5b94c4152746",
   "metadata": {},
   "outputs": [],
   "source": [
    "from fastai.text.all import *"
   ]
  },
  {
   "cell_type": "code",
   "execution_count": null,
   "id": "cde45750-b8e5-4595-b7c5-a301600c0349",
   "metadata": {},
   "outputs": [],
   "source": [
    "m = load_pickle(\"./formality.pkl\")"
   ]
  },
  {
   "cell_type": "code",
   "execution_count": null,
   "id": "071ed685-28fd-4b13-997a-ca2eaa19b4bf",
   "metadata": {},
   "outputs": [],
   "source": [
    "formal_sentence = \"The Gram matrix (or Gramian matrix, Gramian) of a set of vectors in an inner product space is the Hermitian matrix of inner products\""
   ]
  },
  {
   "cell_type": "code",
   "execution_count": null,
   "id": "c8f197d4-0862-434f-987d-c3d527006110",
   "metadata": {},
   "outputs": [],
   "source": [
    "a = m.predict(formal_sentence)"
   ]
  },
  {
   "cell_type": "code",
   "execution_count": null,
   "id": "afbabaad-3c84-44a2-9515-36901cea54bf",
   "metadata": {},
   "outputs": [],
   "source": []
  },
  {
   "cell_type": "code",
   "execution_count": null,
   "id": "c22ba72b-8bdb-4bb2-bfde-7af31e98fac0",
   "metadata": {
    "tags": []
   },
   "outputs": [],
   "source": [
    "def formal_informal(text):\n",
    "    a = m.predict(text)\n",
    "    # assessment = \"style: {0}, confidence {1:.2f}%\".format( a[0], a[2][0] * 100)\n",
    "    assessment = \"style: {0}\".format(a[0])\n",
    "    return assessment\n",
    "    \n",
    "demo = gr.Interface(fn=formal_informal, inputs=\"text\", outputs=\"text\")\n",
    "demo.launch()"
   ]
  },
  {
   "cell_type": "code",
   "execution_count": null,
   "id": "0b3adac2-907d-4122-afc0-818edb926aa7",
   "metadata": {},
   "outputs": [],
   "source": []
  }
 ],
 "metadata": {
  "kernelspec": {
   "display_name": "Python 3 (ipykernel)",
   "language": "python",
   "name": "python3"
  },
  "language_info": {
   "codemirror_mode": {
    "name": "ipython",
    "version": 3
   },
   "file_extension": ".py",
   "mimetype": "text/x-python",
   "name": "python",
   "nbconvert_exporter": "python",
   "pygments_lexer": "ipython3",
   "version": "3.9.12"
  }
 },
 "nbformat": 4,
 "nbformat_minor": 5
}
