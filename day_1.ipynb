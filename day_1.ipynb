{
 "cells": [
  {
   "cell_type": "markdown",
   "metadata": {},
   "source": [
    "Looking at this website for an idea of how to do word processing\n",
    "classify as informal or formal\n",
    "https://addiai.com/text-classification/"
   ]
  },
  {
   "cell_type": "code",
   "execution_count": 10,
   "metadata": {},
   "outputs": [],
   "source": [
    "! [ -e /content ] && pip install -Uqq fastbook\n",
    "import fastbook\n",
    "fastbook.setup_book()\n"
   ]
  },
  {
   "cell_type": "code",
   "execution_count": 11,
   "metadata": {},
   "outputs": [],
   "source": [
    "from fastbook import *"
   ]
  },
  {
   "cell_type": "code",
   "execution_count": 16,
   "metadata": {},
   "outputs": [],
   "source": [
    "learn_language = open(\"languages.txt\")\n",
    "string_learn = learn_language.read()\n",
    "string_learn = string_learn.split('.')\n",
    "formal_language = []\n",
    "informal_language = []\n",
    "i = 0\n",
    "while(i < len(string_learn)):\n",
    "    if (i%2 == 0):\n",
    "        formal_language.append(string_learn[i])\n",
    "    else:\n",
    "        informal_language.append(string_learn[i])\n",
    "    i+=1\n"
   ]
  },
  {
   "cell_type": "code",
   "execution_count": null,
   "metadata": {},
   "outputs": [],
   "source": []
  }
 ],
 "metadata": {
  "kernelspec": {
   "display_name": "Python 3.9.12 ('base')",
   "language": "python",
   "name": "python3"
  },
  "language_info": {
   "codemirror_mode": {
    "name": "ipython",
    "version": 3
   },
   "file_extension": ".py",
   "mimetype": "text/x-python",
   "name": "python",
   "nbconvert_exporter": "python",
   "pygments_lexer": "ipython3",
   "version": "3.9.12"
  },
  "orig_nbformat": 4,
  "vscode": {
   "interpreter": {
    "hash": "0a72df59c52a09f9bf6e0f830f30cf17ffee7ddbbcfbe1e2cb243c420affb6f8"
   }
  }
 },
 "nbformat": 4,
 "nbformat_minor": 2
}
