{
 "cells": [
  {
   "cell_type": "code",
   "execution_count": 3,
   "id": "8b1d0502",
   "metadata": {},
   "outputs": [],
   "source": [
    "from fastai.text.all import *\n",
    "path = Path(\"data\")\n",
    "files = get_text_files(path, folders = ['train', 'test'])"
   ]
  },
  {
   "cell_type": "code",
   "execution_count": 10,
   "id": "8e73c377",
   "metadata": {},
   "outputs": [],
   "source": [
    "txts = L([\"Fourscore and seven years ago, our fathers brought forth upon this continent a new nation, conceived in liberty, and dedicated to the pursuit of happiness.\",\n",
    "          \"No, you don't understand!\"])\n",
    "txt = txts[0]"
   ]
  },
  {
   "cell_type": "code",
   "execution_count": 21,
   "id": "f3b6b051",
   "metadata": {},
   "outputs": [
    {
     "name": "stdout",
     "output_type": "stream",
     "text": [
      "(#31) ['xxbos','xxmaj','fourscore','and','seven','years','ago',',','our','fathers','brought','forth','upon','this','continent','a','new','nation',',','conceived','in','liberty',',','and','dedicated','to','the','pursuit','of','happiness'...]\n"
     ]
    }
   ],
   "source": [
    "tkn = Tokenizer(WordTokenizer())\n",
    "toks = tkn(txt)\n",
    "print(coll_repr(toks, 30))"
   ]
  },
  {
   "cell_type": "code",
   "execution_count": 15,
   "id": "f4eeb271",
   "metadata": {},
   "outputs": [
    {
     "data": {
      "text/plain": [
       "(#2) [['xxbos', 'xxmaj', 'fourscore', 'and', 'seven', 'years', 'ago', ',', 'our', 'fathers', 'brought', 'forth', 'upon', 'this', 'continent', 'a', 'new', 'nation', ',', 'conceived', 'in', 'liberty', ',', 'and', 'dedicated', 'to', 'the', 'pursuit', 'of', 'happiness', '.'],['xxbos', 'xxmaj', 'no', ',', 'you', 'do', \"n't\", 'understand', '!']]"
      ]
     },
     "execution_count": 15,
     "metadata": {},
     "output_type": "execute_result"
    }
   ],
   "source": [
    "toks_all = txts.map(tkn)\n",
    "toks_all"
   ]
  },
  {
   "cell_type": "code",
   "execution_count": 19,
   "id": "c4ac444f",
   "metadata": {},
   "outputs": [
    {
     "name": "stdout",
     "output_type": "stream",
     "text": [
      "(#48) ['xxunk','xxpad','xxbos','xxeos','xxfld','xxrep','xxwrep','xxup','xxmaj',',','and','fourscore','seven','years','ago','our','fathers','brought','forth','upon'...]\n"
     ]
    }
   ],
   "source": [
    "num = Numericalize(min_freq=1)\n",
    "num.setup(toks_all)\n",
    "print(coll_repr(num.vocab,20))"
   ]
  },
  {
   "cell_type": "code",
   "execution_count": 22,
   "id": "4ac0d7ba",
   "metadata": {},
   "outputs": [
    {
     "data": {
      "text/plain": [
       "TensorText([ 2,  8, 11, 10, 12, 13, 14,  9, 15, 16, 17, 18, 19, 20, 21, 22, 23, 24,\n",
       "         9, 25])"
      ]
     },
     "execution_count": 22,
     "metadata": {},
     "output_type": "execute_result"
    }
   ],
   "source": [
    "nums = num(toks)[:20]; nums"
   ]
  },
  {
   "cell_type": "code",
   "execution_count": 23,
   "id": "4a372415",
   "metadata": {},
   "outputs": [
    {
     "data": {
      "text/plain": [
       "'xxbos xxmaj fourscore and seven years ago , our fathers brought forth upon this continent a new nation , conceived'"
      ]
     },
     "execution_count": 23,
     "metadata": {},
     "output_type": "execute_result"
    }
   ],
   "source": [
    "' '.join(num.vocab[o] for o in nums)"
   ]
  },
  {
   "cell_type": "code",
   "execution_count": 24,
   "id": "987f16b2",
   "metadata": {},
   "outputs": [],
   "source": [
    "nums_all = toks_all.map(num)"
   ]
  },
  {
   "cell_type": "code",
   "execution_count": 27,
   "id": "f7031b19",
   "metadata": {},
   "outputs": [],
   "source": [
    "dl = LMDataLoader(nums_all)"
   ]
  },
  {
   "cell_type": "markdown",
   "id": "3f2c9481",
   "metadata": {},
   "source": [
    "Creating the language model:"
   ]
  },
  {
   "cell_type": "code",
   "execution_count": null,
   "id": "bc4ba3b3",
   "metadata": {},
   "outputs": [],
   "source": [
    "get_files = partial(get_text_files, folders=['train', 'test'])\n",
    "\n",
    "dls_lm = DataBlock(\n",
    "    blocks=TextBlock.from_folder(path, is_lm=True),\n",
    "    get_items=get_files, splitter=RandomSplitter(0.1)\n",
    ").dataloaders(path, path=path, bs=128, seq_len=80)"
   ]
  },
  {
   "cell_type": "code",
   "execution_count": null,
   "id": "d6d1a8a0",
   "metadata": {},
   "outputs": [],
   "source": [
    "dls_lm.show_batch(max_n=2)"
   ]
  },
  {
   "cell_type": "markdown",
   "id": "e16b30e5",
   "metadata": {},
   "source": [
    "Fine-tuning the language model:"
   ]
  },
  {
   "cell_type": "code",
   "execution_count": null,
   "id": "646286dd",
   "metadata": {},
   "outputs": [],
   "source": [
    "learn = language_model_learner(\n",
    "    dls_lm, AWD_LSTM, drop_mult=0.3, \n",
    "    metrics=[accuracy, Perplexity()]).to_fp16()"
   ]
  },
  {
   "cell_type": "code",
   "execution_count": null,
   "id": "5e0576e6",
   "metadata": {},
   "outputs": [],
   "source": [
    "learn.fit_one_cycle(1, 2e-2)"
   ]
  },
  {
   "cell_type": "code",
   "execution_count": null,
   "id": "dedc1202",
   "metadata": {},
   "outputs": [],
   "source": [
    "dls_clas = DataBlock(\n",
    "    blocks=(TextBlock.from_folder(path, vocab=dls_lm.vocab),CategoryBlock),\n",
    "    get_y = parent_label,\n",
    "    get_items=partial(get_text_files, folders=['train', 'test']),\n",
    "    splitter=GrandparentSplitter(valid_name='test')\n",
    ").dataloaders(path, path=path, bs=128, seq_len=72)"
   ]
  },
  {
   "cell_type": "code",
   "execution_count": null,
   "id": "03b2b21e",
   "metadata": {},
   "outputs": [],
   "source": [
    "dls_clas.show_batch(max_n=3)"
   ]
  },
  {
   "cell_type": "code",
   "execution_count": null,
   "id": "32fc7dad",
   "metadata": {},
   "outputs": [],
   "source": [
    "learn = text_classifier_learner(dls_clas, AWD_LSTM, drop_mult=0.5, \n",
    "                                metrics=accuracy).to_fp16()"
   ]
  },
  {
   "cell_type": "code",
   "execution_count": null,
   "id": "81499a1a",
   "metadata": {},
   "outputs": [],
   "source": [
    "learn = learn.load_encoder('finetuned')"
   ]
  },
  {
   "cell_type": "code",
   "execution_count": null,
   "id": "067375cb",
   "metadata": {},
   "outputs": [],
   "source": [
    "learn.fit_one_cycle(1, 2e-2)\n",
    "learn.freeze_to(-2)\n",
    "learn.fit_one_cycle(1, slice(1e-2/(2.6**4),1e-2))\n",
    "learn.freeze_to(-3)\n",
    "learn.fit_one_cycle(1, slice(5e-3/(2.6**4),5e-3))\n",
    "learn.unfreeze()\n",
    "learn.fit_one_cycle(2, slice(1e-3/(2.6**4),1e-3))"
   ]
  },
  {
   "cell_type": "code",
   "execution_count": null,
   "id": "cab4e4a5",
   "metadata": {},
   "outputs": [],
   "source": [
    "le"
   ]
  }
 ],
 "metadata": {
  "kernelspec": {
   "display_name": "Python 3 (ipykernel)",
   "language": "python",
   "name": "python3"
  },
  "language_info": {
   "codemirror_mode": {
    "name": "ipython",
    "version": 3
   },
   "file_extension": ".py",
   "mimetype": "text/x-python",
   "name": "python",
   "nbconvert_exporter": "python",
   "pygments_lexer": "ipython3",
   "version": "3.9.13"
  }
 },
 "nbformat": 4,
 "nbformat_minor": 5
}
