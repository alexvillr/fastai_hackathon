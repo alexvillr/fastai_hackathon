{
 "cells": [
  {
   "cell_type": "code",
   "execution_count": 3,
   "id": "bd85e66d",
   "metadata": {},
   "outputs": [],
   "source": [
    "from fastai.text.all import *\n",
    "path = Path(\"data\")\n",
    "files = get_text_files(path, folders = ['train', 'test'])"
   ]
  },
  {
   "cell_type": "code",
   "execution_count": 10,
   "id": "29bd6027",
   "metadata": {},
   "outputs": [],
   "source": [
    "txts = L([\"Fourscore and seven years ago, our fathers brought forth upon this continent a new nation, conceived in liberty, and dedicated to the pursuit of happiness.\",\n",
    "          \"No, you don't understand!\"])\n",
    "txt = txts[0]"
   ]
  },
  {
   "cell_type": "code",
   "execution_count": 21,
   "id": "6d1082ff",
   "metadata": {},
   "outputs": [
    {
     "name": "stdout",
     "output_type": "stream",
     "text": [
      "(#31) ['xxbos','xxmaj','fourscore','and','seven','years','ago',',','our','fathers','brought','forth','upon','this','continent','a','new','nation',',','conceived','in','liberty',',','and','dedicated','to','the','pursuit','of','happiness'...]\n"
     ]
    }
   ],
   "source": [
    "tkn = Tokenizer(WordTokenizer())\n",
    "toks = tkn(txt)\n",
    "print(coll_repr(toks, 30))"
   ]
  },
  {
   "cell_type": "code",
   "execution_count": 15,
   "id": "ff0093f1",
   "metadata": {},
   "outputs": [
    {
     "data": {
      "text/plain": [
       "(#2) [['xxbos', 'xxmaj', 'fourscore', 'and', 'seven', 'years', 'ago', ',', 'our', 'fathers', 'brought', 'forth', 'upon', 'this', 'continent', 'a', 'new', 'nation', ',', 'conceived', 'in', 'liberty', ',', 'and', 'dedicated', 'to', 'the', 'pursuit', 'of', 'happiness', '.'],['xxbos', 'xxmaj', 'no', ',', 'you', 'do', \"n't\", 'understand', '!']]"
      ]
     },
     "execution_count": 15,
     "metadata": {},
     "output_type": "execute_result"
    }
   ],
   "source": [
    "toks_all = txts.map(tkn)\n",
    "toks_all"
   ]
  },
  {
   "cell_type": "code",
   "execution_count": 19,
   "id": "f6984389",
   "metadata": {},
   "outputs": [
    {
     "name": "stdout",
     "output_type": "stream",
     "text": [
      "(#48) ['xxunk','xxpad','xxbos','xxeos','xxfld','xxrep','xxwrep','xxup','xxmaj',',','and','fourscore','seven','years','ago','our','fathers','brought','forth','upon'...]\n"
     ]
    }
   ],
   "source": [
    "num = Numericalize(min_freq=1)\n",
    "num.setup(toks_all)\n",
    "print(coll_repr(num.vocab,20))"
   ]
  },
  {
   "cell_type": "code",
   "execution_count": 22,
   "id": "955e90cf",
   "metadata": {},
   "outputs": [
    {
     "data": {
      "text/plain": [
       "TensorText([ 2,  8, 11, 10, 12, 13, 14,  9, 15, 16, 17, 18, 19, 20, 21, 22, 23, 24,\n",
       "         9, 25])"
      ]
     },
     "execution_count": 22,
     "metadata": {},
     "output_type": "execute_result"
    }
   ],
   "source": [
    "nums = num(toks)[:20]; nums"
   ]
  },
  {
   "cell_type": "code",
   "execution_count": 23,
   "id": "fab63666",
   "metadata": {},
   "outputs": [
    {
     "data": {
      "text/plain": [
       "'xxbos xxmaj fourscore and seven years ago , our fathers brought forth upon this continent a new nation , conceived'"
      ]
     },
     "execution_count": 23,
     "metadata": {},
     "output_type": "execute_result"
    }
   ],
   "source": [
    "' '.join(num.vocab[o] for o in nums)"
   ]
  },
  {
   "cell_type": "code",
   "execution_count": 24,
   "id": "20fc301e",
   "metadata": {},
   "outputs": [],
   "source": [
    "nums_all = toks_all.map(num)"
   ]
  },
  {
   "cell_type": "code",
   "execution_count": 27,
   "id": "af5315b0",
   "metadata": {},
   "outputs": [],
   "source": [
    "dl = LMDataLoader(nums_all)"
   ]
  },
  {
   "cell_type": "markdown",
   "id": "2338dd4b",
   "metadata": {},
   "source": [
    "Creating the language model:"
   ]
  },
  {
   "cell_type": "code",
   "execution_count": null,
   "id": "7b466920",
   "metadata": {},
   "outputs": [],
   "source": [
    "get_files = partial(get_text_files, folders=['train', 'test'])\n",
    "\n",
    "dls_lm = DataBlock(\n",
    "    blocks=TextBlock.from_folder(path, is_lm=True),\n",
    "    get_items=get_files, splitter=RandomSplitter(0.1)\n",
    ").dataloaders(path, path=path, bs=128, seq_len=80)"
   ]
  },
  {
   "cell_type": "code",
   "execution_count": null,
   "id": "a6e77f9d",
   "metadata": {},
   "outputs": [],
   "source": [
    "dls_lm.show_batch(max_n=2)"
   ]
  },
  {
   "cell_type": "markdown",
   "id": "cf43be19",
   "metadata": {},
   "source": [
    "Fine-tuning the language model:"
   ]
  },
  {
   "cell_type": "code",
   "execution_count": null,
   "id": "99521d9b",
   "metadata": {},
   "outputs": [],
   "source": [
    "learn = language_model_learner(\n",
    "    dls_lm, AWD_LSTM, drop_mult=0.3, \n",
    "    metrics=[accuracy, Perplexity()]).to_fp16()"
   ]
  },
  {
   "cell_type": "code",
   "execution_count": null,
   "id": "a834bb4b",
   "metadata": {},
   "outputs": [],
   "source": [
    "learn.fit_one_cycle(1, 2e-2)"
   ]
  },
  {
   "cell_type": "code",
   "execution_count": null,
   "id": "19a60ea4",
   "metadata": {},
   "outputs": [],
   "source": []
  }
 ],
 "metadata": {
  "kernelspec": {
   "display_name": "Python 3 (ipykernel)",
   "language": "python",
   "name": "python3"
  },
  "language_info": {
   "codemirror_mode": {
    "name": "ipython",
    "version": 3
   },
   "file_extension": ".py",
   "mimetype": "text/x-python",
   "name": "python",
   "nbconvert_exporter": "python",
   "pygments_lexer": "ipython3",
   "version": "3.9.13"
  }
 },
 "nbformat": 4,
 "nbformat_minor": 5
}
